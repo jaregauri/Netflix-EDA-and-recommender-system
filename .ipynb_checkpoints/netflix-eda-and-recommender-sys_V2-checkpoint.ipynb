{
 "cells": [
  {
   "cell_type": "code",
   "execution_count": 127,
   "metadata": {
    "_cell_guid": "b1076dfc-b9ad-4769-8c92-a6c4dae69d19",
    "_uuid": "8f2839f25d086af736a60e9eeb907d3b93b6e0e5",
    "execution": {
     "iopub.execute_input": "2021-12-28T18:35:07.956972Z",
     "iopub.status.busy": "2021-12-28T18:35:07.956698Z",
     "iopub.status.idle": "2021-12-28T18:35:07.967495Z",
     "shell.execute_reply": "2021-12-28T18:35:07.966340Z",
     "shell.execute_reply.started": "2021-12-28T18:35:07.956945Z"
    }
   },
   "outputs": [],
   "source": [
    "# This Python 3 environment comes with many helpful analytics libraries installed\n",
    "# It is defined by the kaggle/python Docker image: https://github.com/kaggle/docker-python\n",
    "# For example, here's several helpful packages to load\n",
    "\n",
    "import numpy as np # linear algebra\n",
    "import pandas as pd # data processing, CSV file I/O (e.g. pd.read_csv)\n",
    "\n",
    "# Input data files are available in the read-only \"../input/\" directory\n",
    "# For example, running this (by clicking run or pressing Shift+Enter) will list all files under the input directory\n",
    "\n",
    "import os\n",
    "for dirname, _, filenames in os.walk('/kaggle/input'):\n",
    "    for filename in filenames:\n",
    "        print(os.path.join(dirname, filename))\n",
    "\n",
    "# You can write up to 20GB to the current directory (/kaggle/working/) that gets preserved as output when you create a version using \"Save & Run All\" \n",
    "# You can also write temporary files to /kaggle/temp/, but they won't be saved outside of the current session"
   ]
  },
  {
   "cell_type": "code",
   "execution_count": 128,
   "metadata": {
    "execution": {
     "iopub.execute_input": "2021-12-28T18:35:07.970349Z",
     "iopub.status.busy": "2021-12-28T18:35:07.969794Z",
     "iopub.status.idle": "2021-12-28T18:35:08.060532Z",
     "shell.execute_reply": "2021-12-28T18:35:08.059617Z",
     "shell.execute_reply.started": "2021-12-28T18:35:07.970300Z"
    }
   },
   "outputs": [],
   "source": [
    "df = pd.read_csv('/kaggle/input/netflix-shows/netflix_titles.csv')\n"
   ]
  },
  {
   "cell_type": "code",
   "execution_count": 129,
   "metadata": {
    "execution": {
     "iopub.execute_input": "2021-12-28T18:35:08.139410Z",
     "iopub.status.busy": "2021-12-28T18:35:08.139119Z",
     "iopub.status.idle": "2021-12-28T18:35:08.160803Z",
     "shell.execute_reply": "2021-12-28T18:35:08.159760Z",
     "shell.execute_reply.started": "2021-12-28T18:35:08.139379Z"
    }
   },
   "outputs": [],
   "source": [
    "df.head()"
   ]
  },
  {
   "cell_type": "code",
   "execution_count": 130,
   "metadata": {
    "execution": {
     "iopub.execute_input": "2021-12-28T18:35:08.163640Z",
     "iopub.status.busy": "2021-12-28T18:35:08.163107Z",
     "iopub.status.idle": "2021-12-28T18:35:08.190368Z",
     "shell.execute_reply": "2021-12-28T18:35:08.189275Z",
     "shell.execute_reply.started": "2021-12-28T18:35:08.163596Z"
    }
   },
   "outputs": [],
   "source": [
    "df.isnull().sum()"
   ]
  },
  {
   "cell_type": "code",
   "execution_count": 131,
   "metadata": {
    "execution": {
     "iopub.execute_input": "2021-12-28T18:35:08.192405Z",
     "iopub.status.busy": "2021-12-28T18:35:08.192017Z",
     "iopub.status.idle": "2021-12-28T18:35:08.224142Z",
     "shell.execute_reply": "2021-12-28T18:35:08.223602Z",
     "shell.execute_reply.started": "2021-12-28T18:35:08.192359Z"
    }
   },
   "outputs": [],
   "source": [
    "#check duplicate rows\n",
    "df.duplicated().sum()"
   ]
  },
  {
   "cell_type": "code",
   "execution_count": 132,
   "metadata": {
    "execution": {
     "iopub.execute_input": "2021-12-28T18:35:08.225828Z",
     "iopub.status.busy": "2021-12-28T18:35:08.225388Z",
     "iopub.status.idle": "2021-12-28T18:35:08.229999Z",
     "shell.execute_reply": "2021-12-28T18:35:08.229164Z",
     "shell.execute_reply.started": "2021-12-28T18:35:08.225787Z"
    }
   },
   "outputs": [],
   "source": [
    "import seaborn as sns #importing our visualization library\n",
    "import matplotlib.pyplot as plt"
   ]
  },
  {
   "cell_type": "code",
   "execution_count": 133,
   "metadata": {
    "execution": {
     "iopub.execute_input": "2021-12-28T18:35:08.232807Z",
     "iopub.status.busy": "2021-12-28T18:35:08.232252Z",
     "iopub.status.idle": "2021-12-28T18:35:08.868359Z",
     "shell.execute_reply": "2021-12-28T18:35:08.866991Z",
     "shell.execute_reply.started": "2021-12-28T18:35:08.232761Z"
    }
   },
   "outputs": [],
   "source": [
    "sns.heatmap(df.isnull(), cmap = 'viridis')"
   ]
  },
  {
   "cell_type": "code",
   "execution_count": 134,
   "metadata": {
    "execution": {
     "iopub.execute_input": "2021-12-28T18:35:08.870826Z",
     "iopub.status.busy": "2021-12-28T18:35:08.870149Z",
     "iopub.status.idle": "2021-12-28T18:35:08.882153Z",
     "shell.execute_reply": "2021-12-28T18:35:08.880970Z",
     "shell.execute_reply.started": "2021-12-28T18:35:08.870791Z"
    }
   },
   "outputs": [],
   "source": [
    "df['duration'].value_counts()"
   ]
  },
  {
   "cell_type": "code",
   "execution_count": 135,
   "metadata": {
    "execution": {
     "iopub.execute_input": "2021-12-28T18:35:08.885758Z",
     "iopub.status.busy": "2021-12-28T18:35:08.885190Z",
     "iopub.status.idle": "2021-12-28T18:35:08.899276Z",
     "shell.execute_reply": "2021-12-28T18:35:08.898221Z",
     "shell.execute_reply.started": "2021-12-28T18:35:08.885718Z"
    }
   },
   "outputs": [],
   "source": [
    "df['rating'].unique()"
   ]
  },
  {
   "cell_type": "code",
   "execution_count": 136,
   "metadata": {
    "execution": {
     "iopub.execute_input": "2021-12-28T18:35:08.901769Z",
     "iopub.status.busy": "2021-12-28T18:35:08.901191Z",
     "iopub.status.idle": "2021-12-28T18:35:08.911064Z",
     "shell.execute_reply": "2021-12-28T18:35:08.910513Z",
     "shell.execute_reply.started": "2021-12-28T18:35:08.901736Z"
    }
   },
   "outputs": [],
   "source": [
    "df.drop(['director', 'cast'], axis = 1, inplace = True)"
   ]
  },
  {
   "cell_type": "code",
   "execution_count": 137,
   "metadata": {
    "execution": {
     "iopub.execute_input": "2021-12-28T18:35:08.913146Z",
     "iopub.status.busy": "2021-12-28T18:35:08.912631Z",
     "iopub.status.idle": "2021-12-28T18:35:08.935929Z",
     "shell.execute_reply": "2021-12-28T18:35:08.935242Z",
     "shell.execute_reply.started": "2021-12-28T18:35:08.913079Z"
    }
   },
   "outputs": [],
   "source": [
    "df.head()"
   ]
  },
  {
   "cell_type": "code",
   "execution_count": 138,
   "metadata": {
    "execution": {
     "iopub.execute_input": "2021-12-28T18:35:08.937880Z",
     "iopub.status.busy": "2021-12-28T18:35:08.937451Z",
     "iopub.status.idle": "2021-12-28T18:35:08.953278Z",
     "shell.execute_reply": "2021-12-28T18:35:08.952134Z",
     "shell.execute_reply.started": "2021-12-28T18:35:08.937848Z"
    }
   },
   "outputs": [],
   "source": [
    "#replacing nan values in country with US\n",
    "df.replace({'country': {np.nan: 'United States'}}, inplace = True)"
   ]
  },
  {
   "cell_type": "code",
   "execution_count": 139,
   "metadata": {
    "execution": {
     "iopub.execute_input": "2021-12-28T18:35:08.955059Z",
     "iopub.status.busy": "2021-12-28T18:35:08.954806Z",
     "iopub.status.idle": "2021-12-28T18:35:08.969572Z",
     "shell.execute_reply": "2021-12-28T18:35:08.968877Z",
     "shell.execute_reply.started": "2021-12-28T18:35:08.955032Z"
    }
   },
   "outputs": [],
   "source": [
    "#dropping data_added since we already have release year\n",
    "df.drop(['date_added'], axis = 1 , inplace = True)"
   ]
  },
  {
   "cell_type": "code",
   "execution_count": 140,
   "metadata": {
    "execution": {
     "iopub.execute_input": "2021-12-28T18:35:08.973269Z",
     "iopub.status.busy": "2021-12-28T18:35:08.972815Z",
     "iopub.status.idle": "2021-12-28T18:35:08.999280Z",
     "shell.execute_reply": "2021-12-28T18:35:08.998373Z",
     "shell.execute_reply.started": "2021-12-28T18:35:08.973238Z"
    }
   },
   "outputs": [],
   "source": [
    "df"
   ]
  },
  {
   "cell_type": "code",
   "execution_count": 141,
   "metadata": {
    "execution": {
     "iopub.execute_input": "2021-12-28T18:35:09.001492Z",
     "iopub.status.busy": "2021-12-28T18:35:09.001143Z",
     "iopub.status.idle": "2021-12-28T18:35:09.019900Z",
     "shell.execute_reply": "2021-12-28T18:35:09.019002Z",
     "shell.execute_reply.started": "2021-12-28T18:35:09.001456Z"
    }
   },
   "outputs": [],
   "source": [
    "df['rating'].value_counts()"
   ]
  },
  {
   "cell_type": "code",
   "execution_count": 142,
   "metadata": {
    "execution": {
     "iopub.execute_input": "2021-12-28T18:35:09.022348Z",
     "iopub.status.busy": "2021-12-28T18:35:09.021041Z",
     "iopub.status.idle": "2021-12-28T18:35:09.036350Z",
     "shell.execute_reply": "2021-12-28T18:35:09.035295Z",
     "shell.execute_reply.started": "2021-12-28T18:35:09.022241Z"
    }
   },
   "outputs": [],
   "source": [
    "#since tv ma is the most popular rating we h=can fill the nan values with this value\n",
    "df.replace({'rating': { np.nan : 'TV-MA'}}, inplace = True)"
   ]
  },
  {
   "cell_type": "code",
   "execution_count": 143,
   "metadata": {
    "execution": {
     "iopub.execute_input": "2021-12-28T18:35:09.037652Z",
     "iopub.status.busy": "2021-12-28T18:35:09.037387Z",
     "iopub.status.idle": "2021-12-28T18:35:09.065931Z",
     "shell.execute_reply": "2021-12-28T18:35:09.064275Z",
     "shell.execute_reply.started": "2021-12-28T18:35:09.037622Z"
    }
   },
   "outputs": [],
   "source": [
    "df.head()"
   ]
  },
  {
   "cell_type": "code",
   "execution_count": 144,
   "metadata": {
    "execution": {
     "iopub.execute_input": "2021-12-28T18:35:09.067567Z",
     "iopub.status.busy": "2021-12-28T18:35:09.067223Z",
     "iopub.status.idle": "2021-12-28T18:35:09.091726Z",
     "shell.execute_reply": "2021-12-28T18:35:09.090609Z",
     "shell.execute_reply.started": "2021-12-28T18:35:09.067526Z"
    }
   },
   "outputs": [],
   "source": [
    "df.isnull().sum()"
   ]
  },
  {
   "cell_type": "code",
   "execution_count": 145,
   "metadata": {
    "execution": {
     "iopub.execute_input": "2021-12-28T18:35:09.094022Z",
     "iopub.status.busy": "2021-12-28T18:35:09.093686Z",
     "iopub.status.idle": "2021-12-28T18:35:09.106469Z",
     "shell.execute_reply": "2021-12-28T18:35:09.105486Z",
     "shell.execute_reply.started": "2021-12-28T18:35:09.093980Z"
    }
   },
   "outputs": [],
   "source": [
    "df = df[df['duration'].notna()]"
   ]
  },
  {
   "cell_type": "code",
   "execution_count": 146,
   "metadata": {
    "execution": {
     "iopub.execute_input": "2021-12-28T18:35:09.108327Z",
     "iopub.status.busy": "2021-12-28T18:35:09.108071Z",
     "iopub.status.idle": "2021-12-28T18:35:09.131955Z",
     "shell.execute_reply": "2021-12-28T18:35:09.130785Z",
     "shell.execute_reply.started": "2021-12-28T18:35:09.108300Z"
    }
   },
   "outputs": [],
   "source": [
    "df.isnull().sum()"
   ]
  },
  {
   "cell_type": "code",
   "execution_count": 147,
   "metadata": {
    "execution": {
     "iopub.execute_input": "2021-12-28T18:35:09.134223Z",
     "iopub.status.busy": "2021-12-28T18:35:09.133420Z",
     "iopub.status.idle": "2021-12-28T18:35:09.408495Z",
     "shell.execute_reply": "2021-12-28T18:35:09.407643Z",
     "shell.execute_reply.started": "2021-12-28T18:35:09.134176Z"
    }
   },
   "outputs": [],
   "source": [
    "import plotly.express as px #distribution according to countries\n",
    "sns.countplot(x = 'type', data = df)\n",
    "x=df[\"type\"].value_counts().reset_index()\n",
    "px.pie(x,values=\"type\",names=\"index\")"
   ]
  },
  {
   "cell_type": "code",
   "execution_count": 148,
   "metadata": {
    "execution": {
     "iopub.execute_input": "2021-12-28T18:35:09.410429Z",
     "iopub.status.busy": "2021-12-28T18:35:09.410107Z",
     "iopub.status.idle": "2021-12-28T18:35:09.744819Z",
     "shell.execute_reply": "2021-12-28T18:35:09.744025Z",
     "shell.execute_reply.started": "2021-12-28T18:35:09.410382Z"
    }
   },
   "outputs": [],
   "source": [
    "sns.countplot(x = 'rating', data = df)"
   ]
  },
  {
   "cell_type": "code",
   "execution_count": 149,
   "metadata": {
    "execution": {
     "iopub.execute_input": "2021-12-28T18:35:09.746865Z",
     "iopub.status.busy": "2021-12-28T18:35:09.746393Z",
     "iopub.status.idle": "2021-12-28T18:35:12.048567Z",
     "shell.execute_reply": "2021-12-28T18:35:12.047967Z",
     "shell.execute_reply.started": "2021-12-28T18:35:09.746823Z"
    }
   },
   "outputs": [],
   "source": [
    "plt.figure(figsize = (35,6))\n",
    "sns.countplot(x='release_year',data = df)"
   ]
  },
  {
   "cell_type": "code",
   "execution_count": 150,
   "metadata": {
    "execution": {
     "iopub.execute_input": "2021-12-28T18:35:12.049974Z",
     "iopub.status.busy": "2021-12-28T18:35:12.049662Z",
     "iopub.status.idle": "2021-12-28T18:35:12.339698Z",
     "shell.execute_reply": "2021-12-28T18:35:12.338790Z",
     "shell.execute_reply.started": "2021-12-28T18:35:12.049944Z"
    }
   },
   "outputs": [],
   "source": [
    "sns.scatterplot(x = 'rating', y = 'type' , data = df)"
   ]
  },
  {
   "cell_type": "code",
   "execution_count": 151,
   "metadata": {
    "execution": {
     "iopub.execute_input": "2021-12-28T18:35:12.341979Z",
     "iopub.status.busy": "2021-12-28T18:35:12.341675Z",
     "iopub.status.idle": "2021-12-28T18:35:12.870213Z",
     "shell.execute_reply": "2021-12-28T18:35:12.869353Z",
     "shell.execute_reply.started": "2021-12-28T18:35:12.341936Z"
    }
   },
   "outputs": [],
   "source": [
    "plt.figure(figsize = (35,10))\n",
    "sns.countplot(x = 'rating', data = df, hue = 'type')"
   ]
  },
  {
   "cell_type": "code",
   "execution_count": 152,
   "metadata": {
    "execution": {
     "iopub.execute_input": "2021-12-28T18:35:12.871969Z",
     "iopub.status.busy": "2021-12-28T18:35:12.871723Z",
     "iopub.status.idle": "2021-12-28T18:35:12.887660Z",
     "shell.execute_reply": "2021-12-28T18:35:12.886579Z",
     "shell.execute_reply.started": "2021-12-28T18:35:12.871940Z"
    }
   },
   "outputs": [],
   "source": [
    "df.head()"
   ]
  },
  {
   "cell_type": "code",
   "execution_count": 153,
   "metadata": {
    "execution": {
     "iopub.execute_input": "2021-12-28T18:35:12.889465Z",
     "iopub.status.busy": "2021-12-28T18:35:12.889216Z",
     "iopub.status.idle": "2021-12-28T18:35:12.909387Z",
     "shell.execute_reply": "2021-12-28T18:35:12.908691Z",
     "shell.execute_reply.started": "2021-12-28T18:35:12.889429Z"
    }
   },
   "outputs": [],
   "source": [
    "tag = \"Stand-Up Comedy\"\n",
    "df[\"stand-up\"] = df['listed_in'].fillna(\"\").apply(lambda x: 1 if tag.lower() in x.lower() else 0)\n"
   ]
  },
  {
   "cell_type": "code",
   "execution_count": 154,
   "metadata": {
    "execution": {
     "iopub.execute_input": "2021-12-28T18:35:12.911236Z",
     "iopub.status.busy": "2021-12-28T18:35:12.910911Z",
     "iopub.status.idle": "2021-12-28T18:35:12.923234Z",
     "shell.execute_reply": "2021-12-28T18:35:12.922586Z",
     "shell.execute_reply.started": "2021-12-28T18:35:12.911209Z"
    }
   },
   "outputs": [],
   "source": [
    "com = df[df[\"stand-up\"] == 1]"
   ]
  },
  {
   "cell_type": "code",
   "execution_count": 155,
   "metadata": {
    "execution": {
     "iopub.execute_input": "2021-12-28T18:35:12.929543Z",
     "iopub.status.busy": "2021-12-28T18:35:12.928973Z",
     "iopub.status.idle": "2021-12-28T18:35:12.944349Z",
     "shell.execute_reply": "2021-12-28T18:35:12.943242Z",
     "shell.execute_reply.started": "2021-12-28T18:35:12.929504Z"
    }
   },
   "outputs": [],
   "source": [
    "com[com[\"country\"] == \"United States\"][[\"title\", \"country\",\"release_year\"]].head(10)"
   ]
  },
  {
   "cell_type": "code",
   "execution_count": 156,
   "metadata": {
    "execution": {
     "iopub.execute_input": "2021-12-28T18:35:12.946435Z",
     "iopub.status.busy": "2021-12-28T18:35:12.945916Z",
     "iopub.status.idle": "2021-12-28T18:35:12.962906Z",
     "shell.execute_reply": "2021-12-28T18:35:12.962069Z",
     "shell.execute_reply.started": "2021-12-28T18:35:12.946392Z"
    }
   },
   "outputs": [],
   "source": [
    "df_countries = pd.DataFrame(df.country.value_counts().reset_index().values, columns=[\"country\", \"count\"])\n",
    "df_countries.head()"
   ]
  },
  {
   "cell_type": "code",
   "execution_count": 157,
   "metadata": {
    "execution": {
     "iopub.execute_input": "2021-12-28T18:35:12.965005Z",
     "iopub.status.busy": "2021-12-28T18:35:12.964701Z",
     "iopub.status.idle": "2021-12-28T18:35:13.072357Z",
     "shell.execute_reply": "2021-12-28T18:35:13.071636Z",
     "shell.execute_reply.started": "2021-12-28T18:35:12.964964Z"
    }
   },
   "outputs": [],
   "source": [
    "fig = px.choropleth(   #distribution of content on basis of countries\n",
    "    locationmode='country names',\n",
    "    locations=df_countries.country,\n",
    "    labels=df_countries.count\n",
    ")\n",
    "fig.show()"
   ]
  },
  {
   "cell_type": "code",
   "execution_count": 158,
   "metadata": {
    "execution": {
     "iopub.execute_input": "2021-12-28T18:35:13.073919Z",
     "iopub.status.busy": "2021-12-28T18:35:13.073722Z",
     "iopub.status.idle": "2021-12-28T18:35:13.473795Z",
     "shell.execute_reply": "2021-12-28T18:35:13.473092Z",
     "shell.execute_reply.started": "2021-12-28T18:35:13.073895Z"
    }
   },
   "outputs": [],
   "source": [
    "df[df['type']=='Movie']['release_year'].value_counts()[:20].plot(kind = \"bar\")"
   ]
  },
  {
   "cell_type": "code",
   "execution_count": 159,
   "metadata": {
    "execution": {
     "iopub.execute_input": "2021-12-28T18:35:13.475441Z",
     "iopub.status.busy": "2021-12-28T18:35:13.474949Z",
     "iopub.status.idle": "2021-12-28T18:35:13.532126Z",
     "shell.execute_reply": "2021-12-28T18:35:13.530990Z",
     "shell.execute_reply.started": "2021-12-28T18:35:13.475345Z"
    }
   },
   "outputs": [],
   "source": [
    "from wordcloud import WordCloud"
   ]
  },
  {
   "cell_type": "code",
   "execution_count": 160,
   "metadata": {
    "execution": {
     "iopub.execute_input": "2021-12-28T18:35:13.533670Z",
     "iopub.status.busy": "2021-12-28T18:35:13.533407Z",
     "iopub.status.idle": "2021-12-28T18:35:14.574087Z",
     "shell.execute_reply": "2021-12-28T18:35:14.573221Z",
     "shell.execute_reply.started": "2021-12-28T18:35:13.533640Z"
    }
   },
   "outputs": [],
   "source": [
    "from nltk.corpus import stopwords\n",
    "from nltk.tokenize import word_tokenize\n",
    " \n",
    "example_sent = \" \".join(df.title)\n",
    " \n",
    "stop_words = set(stopwords.words('english'))\n",
    " \n",
    "word_tokens = word_tokenize(example_sent)\n",
    " \n",
    "filtered_sentence = [w for w in word_tokens if not w.lower() in stop_words]\n",
    " \n",
    "filtered_sentence = []\n",
    " \n",
    "for w in word_tokens:\n",
    "    if w not in stop_words:\n",
    "        filtered_sentence.append(w)\n",
    " \n",
    "\n"
   ]
  },
  {
   "cell_type": "code",
   "execution_count": 161,
   "metadata": {
    "execution": {
     "iopub.execute_input": "2021-12-28T18:35:14.575774Z",
     "iopub.status.busy": "2021-12-28T18:35:14.575540Z",
     "iopub.status.idle": "2021-12-28T18:35:14.581123Z",
     "shell.execute_reply": "2021-12-28T18:35:14.580498Z",
     "shell.execute_reply.started": "2021-12-28T18:35:14.575737Z"
    }
   },
   "outputs": [],
   "source": [
    "final = \" \".join(filtered_sentence)\n"
   ]
  },
  {
   "cell_type": "code",
   "execution_count": 162,
   "metadata": {
    "execution": {
     "iopub.execute_input": "2021-12-28T18:35:14.582997Z",
     "iopub.status.busy": "2021-12-28T18:35:14.582701Z",
     "iopub.status.idle": "2021-12-28T18:35:20.507953Z",
     "shell.execute_reply": "2021-12-28T18:35:20.507150Z",
     "shell.execute_reply.started": "2021-12-28T18:35:14.582965Z"
    }
   },
   "outputs": [],
   "source": [
    "plt.subplots(figsize=(25,15))\n",
    "wordcloud = WordCloud(\n",
    "                          background_color='Black',\n",
    "                          width=1920,\n",
    "                          height=1080\n",
    "                         ).generate(final)\n",
    "plt.imshow(wordcloud)\n",
    "plt.axis('off')\n",
    "plt.savefig('cast.png')\n",
    "plt.show()"
   ]
  },
  {
   "cell_type": "code",
   "execution_count": 163,
   "metadata": {
    "execution": {
     "iopub.execute_input": "2021-12-28T18:35:20.509875Z",
     "iopub.status.busy": "2021-12-28T18:35:20.509460Z",
     "iopub.status.idle": "2021-12-28T18:35:20.876994Z",
     "shell.execute_reply": "2021-12-28T18:35:20.876407Z",
     "shell.execute_reply.started": "2021-12-28T18:35:20.509842Z"
    }
   },
   "outputs": [],
   "source": [
    "countries=pd.crosstab(df[\"country\"],[\"type\"]).sort_values(by=\"type\",ascending=True)[-10:].reset_index()\n",
    "countries\n",
    "plt.figure(figsize=(12,6))\n",
    "ax=sns.barplot(x=countries[\"country\"],y=countries[\"type\"] )\n",
    "plt.title(\"TOP COUNTRIES WITH HIGHEST NUMBER OF MOVIES AND SHOWS\",fontsize=20)\n",
    "for i in ax.patches:\n",
    "    ax.text(i.get_x()+.25,i.get_height()+2.3,str(int((i.get_height()))),\n",
    "            rotation=0,fontsize=15,color='black')\n",
    "\n",
    "\n"
   ]
  },
  {
   "cell_type": "code",
   "execution_count": 164,
   "metadata": {
    "execution": {
     "iopub.execute_input": "2021-12-28T18:35:20.878604Z",
     "iopub.status.busy": "2021-12-28T18:35:20.877965Z",
     "iopub.status.idle": "2021-12-28T18:35:21.194127Z",
     "shell.execute_reply": "2021-12-28T18:35:21.193316Z",
     "shell.execute_reply.started": "2021-12-28T18:35:20.878567Z"
    }
   },
   "outputs": [],
   "source": [
    "m=df[df[\"type\"]==\"Movie\"]\n",
    "movie_con = pd.crosstab(m['country'], ['type']).sort_values(by = 'type', ascending = True)[-10:].reset_index()\n",
    "plt.figure(figsize=(12,6))\n",
    "ax=sns.barplot(x=movie_con[\"country\"],y=movie_con[\"type\"] )"
   ]
  },
  {
   "cell_type": "code",
   "execution_count": 165,
   "metadata": {
    "execution": {
     "iopub.execute_input": "2021-12-28T18:35:21.196058Z",
     "iopub.status.busy": "2021-12-28T18:35:21.195748Z",
     "iopub.status.idle": "2021-12-28T18:35:21.512109Z",
     "shell.execute_reply": "2021-12-28T18:35:21.511492Z",
     "shell.execute_reply.started": "2021-12-28T18:35:21.196009Z"
    }
   },
   "outputs": [],
   "source": [
    "t=df[df[\"type\"]==\"TV Show\"]\n",
    "tv_con = pd.crosstab(t['country'], ['type']).sort_values(by = 'type', ascending = True)[-10:].reset_index()\n",
    "plt.figure(figsize=(12,6))\n",
    "ax=sns.barplot(x=tv_con[\"country\"],y=tv_con[\"type\"] )"
   ]
  },
  {
   "cell_type": "code",
   "execution_count": 166,
   "metadata": {
    "execution": {
     "iopub.execute_input": "2021-12-28T18:35:21.513841Z",
     "iopub.status.busy": "2021-12-28T18:35:21.513090Z",
     "iopub.status.idle": "2021-12-28T18:35:21.576514Z",
     "shell.execute_reply": "2021-12-28T18:35:21.575912Z",
     "shell.execute_reply.started": "2021-12-28T18:35:21.513809Z"
    }
   },
   "outputs": [],
   "source": [
    "train = pd.read_csv('/kaggle/input/netflix-shows/netflix_titles.csv')"
   ]
  },
  {
   "cell_type": "code",
   "execution_count": 167,
   "metadata": {
    "execution": {
     "iopub.execute_input": "2021-12-28T18:35:21.578094Z",
     "iopub.status.busy": "2021-12-28T18:35:21.577788Z",
     "iopub.status.idle": "2021-12-28T18:35:21.584769Z",
     "shell.execute_reply": "2021-12-28T18:35:21.584122Z",
     "shell.execute_reply.started": "2021-12-28T18:35:21.578065Z"
    }
   },
   "outputs": [],
   "source": [
    "train = train[train['duration'].notna()]"
   ]
  },
  {
   "cell_type": "code",
   "execution_count": 168,
   "metadata": {
    "execution": {
     "iopub.execute_input": "2021-12-28T18:35:21.586353Z",
     "iopub.status.busy": "2021-12-28T18:35:21.585720Z",
     "iopub.status.idle": "2021-12-28T18:35:21.598174Z",
     "shell.execute_reply": "2021-12-28T18:35:21.597482Z",
     "shell.execute_reply.started": "2021-12-28T18:35:21.586322Z"
    }
   },
   "outputs": [],
   "source": [
    "train['date_added'] = train['date_added'].fillna(train['date_added'].mode()[0])"
   ]
  },
  {
   "cell_type": "code",
   "execution_count": 169,
   "metadata": {
    "execution": {
     "iopub.execute_input": "2021-12-28T18:35:21.599840Z",
     "iopub.status.busy": "2021-12-28T18:35:21.599462Z",
     "iopub.status.idle": "2021-12-28T18:35:23.476092Z",
     "shell.execute_reply": "2021-12-28T18:35:23.475325Z",
     "shell.execute_reply.started": "2021-12-28T18:35:21.599812Z"
    }
   },
   "outputs": [],
   "source": [
    "df[\"year\"]=pd.DatetimeIndex(train[\"date_added\"]).year\n",
    "df[\"month\"]=pd.DatetimeIndex(train[\"date_added\"]).month"
   ]
  },
  {
   "cell_type": "code",
   "execution_count": 170,
   "metadata": {
    "execution": {
     "iopub.execute_input": "2021-12-28T18:35:23.477599Z",
     "iopub.status.busy": "2021-12-28T18:35:23.477382Z",
     "iopub.status.idle": "2021-12-28T18:35:23.487370Z",
     "shell.execute_reply": "2021-12-28T18:35:23.486621Z",
     "shell.execute_reply.started": "2021-12-28T18:35:23.477573Z"
    }
   },
   "outputs": [],
   "source": [
    "new = df[['type', 'year']].value_counts().reset_index()\n",
    "new.columns = ['type', 'year', 'count']"
   ]
  },
  {
   "cell_type": "code",
   "execution_count": 171,
   "metadata": {
    "execution": {
     "iopub.execute_input": "2021-12-28T18:35:23.488971Z",
     "iopub.status.busy": "2021-12-28T18:35:23.488753Z",
     "iopub.status.idle": "2021-12-28T18:35:23.844257Z",
     "shell.execute_reply": "2021-12-28T18:35:23.843608Z",
     "shell.execute_reply.started": "2021-12-28T18:35:23.488945Z"
    }
   },
   "outputs": [],
   "source": [
    "sns.lineplot(data = new, x = 'year', y = 'count', hue = 'type')"
   ]
  },
  {
   "cell_type": "code",
   "execution_count": 172,
   "metadata": {
    "execution": {
     "iopub.execute_input": "2021-12-28T18:35:23.846155Z",
     "iopub.status.busy": "2021-12-28T18:35:23.845750Z",
     "iopub.status.idle": "2021-12-28T18:35:23.862429Z",
     "shell.execute_reply": "2021-12-28T18:35:23.861347Z",
     "shell.execute_reply.started": "2021-12-28T18:35:23.846125Z"
    }
   },
   "outputs": [],
   "source": [
    "df.isnull().sum()"
   ]
  },
  {
   "cell_type": "markdown",
   "metadata": {},
   "source": [
    "**In which month should a producer launch his movie or tv show? It should be ideally during a month when there are least number of shows and movies being launched on netflix.**"
   ]
  },
  {
   "cell_type": "code",
   "execution_count": 173,
   "metadata": {
    "execution": {
     "iopub.execute_input": "2021-12-28T18:35:23.864021Z",
     "iopub.status.busy": "2021-12-28T18:35:23.863770Z",
     "iopub.status.idle": "2021-12-28T18:35:23.948590Z",
     "shell.execute_reply": "2021-12-28T18:35:23.947747Z",
     "shell.execute_reply.started": "2021-12-28T18:35:23.863994Z"
    }
   },
   "outputs": [],
   "source": [
    "netflix_overall=pd.read_csv(\"/kaggle/input/netflix-shows/netflix_titles.csv\")\n",
    "netflix_overall.head()"
   ]
  },
  {
   "cell_type": "code",
   "execution_count": 174,
   "metadata": {
    "execution": {
     "iopub.execute_input": "2021-12-28T18:35:23.950841Z",
     "iopub.status.busy": "2021-12-28T18:35:23.950292Z",
     "iopub.status.idle": "2021-12-28T18:35:23.962083Z",
     "shell.execute_reply": "2021-12-28T18:35:23.961452Z",
     "shell.execute_reply.started": "2021-12-28T18:35:23.950798Z"
    }
   },
   "outputs": [],
   "source": [
    "netflix_shows=netflix_overall[netflix_overall['type']=='TV Show']\n",
    "netflix_movies=netflix_overall[netflix_overall['type']=='Movie']"
   ]
  },
  {
   "cell_type": "code",
   "execution_count": 175,
   "metadata": {
    "execution": {
     "iopub.execute_input": "2021-12-28T18:35:23.964226Z",
     "iopub.status.busy": "2021-12-28T18:35:23.963674Z",
     "iopub.status.idle": "2021-12-28T18:35:23.977008Z",
     "shell.execute_reply": "2021-12-28T18:35:23.976398Z",
     "shell.execute_reply.started": "2021-12-28T18:35:23.964174Z"
    }
   },
   "outputs": [],
   "source": [
    "netflix_date = netflix_shows[['date_added']].dropna()"
   ]
  },
  {
   "cell_type": "code",
   "execution_count": 176,
   "metadata": {
    "execution": {
     "iopub.execute_input": "2021-12-28T18:35:23.979199Z",
     "iopub.status.busy": "2021-12-28T18:35:23.978641Z",
     "iopub.status.idle": "2021-12-28T18:35:23.995982Z",
     "shell.execute_reply": "2021-12-28T18:35:23.994880Z",
     "shell.execute_reply.started": "2021-12-28T18:35:23.979157Z"
    }
   },
   "outputs": [],
   "source": [
    "netflix_date"
   ]
  },
  {
   "cell_type": "code",
   "execution_count": 177,
   "metadata": {
    "execution": {
     "iopub.execute_input": "2021-12-28T18:35:23.998051Z",
     "iopub.status.busy": "2021-12-28T18:35:23.997753Z",
     "iopub.status.idle": "2021-12-28T18:35:24.007284Z",
     "shell.execute_reply": "2021-12-28T18:35:24.006491Z",
     "shell.execute_reply.started": "2021-12-28T18:35:23.998012Z"
    }
   },
   "outputs": [],
   "source": [
    "netflix_date['year'] = netflix_date['date_added'].apply(lambda x : x.split(', ')[-1])"
   ]
  },
  {
   "cell_type": "code",
   "execution_count": 178,
   "metadata": {
    "execution": {
     "iopub.execute_input": "2021-12-28T18:35:24.009201Z",
     "iopub.status.busy": "2021-12-28T18:35:24.008730Z",
     "iopub.status.idle": "2021-12-28T18:35:24.023729Z",
     "shell.execute_reply": "2021-12-28T18:35:24.022890Z",
     "shell.execute_reply.started": "2021-12-28T18:35:24.009158Z"
    }
   },
   "outputs": [],
   "source": [
    "netflix_date['month'] = netflix_date['date_added'].apply(lambda x : x.lstrip().split(' ')[0])"
   ]
  },
  {
   "cell_type": "code",
   "execution_count": 179,
   "metadata": {
    "execution": {
     "iopub.execute_input": "2021-12-28T18:35:24.027492Z",
     "iopub.status.busy": "2021-12-28T18:35:24.027069Z",
     "iopub.status.idle": "2021-12-28T18:35:24.033347Z",
     "shell.execute_reply": "2021-12-28T18:35:24.032771Z",
     "shell.execute_reply.started": "2021-12-28T18:35:24.027396Z"
    }
   },
   "outputs": [],
   "source": [
    "month_order = ['January', 'February', 'March', 'April', 'May', 'June', 'July', 'August', 'September', 'October', 'November', 'December'][::-1]"
   ]
  },
  {
   "cell_type": "code",
   "execution_count": 180,
   "metadata": {
    "execution": {
     "iopub.execute_input": "2021-12-28T18:35:24.035492Z",
     "iopub.status.busy": "2021-12-28T18:35:24.034998Z",
     "iopub.status.idle": "2021-12-28T18:35:24.054265Z",
     "shell.execute_reply": "2021-12-28T18:35:24.053644Z",
     "shell.execute_reply.started": "2021-12-28T18:35:24.035462Z"
    }
   },
   "outputs": [],
   "source": [
    "df_net =  netflix_date.groupby('year')['month'].value_counts().unstack().fillna(0)[month_order].T\n"
   ]
  },
  {
   "cell_type": "code",
   "execution_count": 181,
   "metadata": {
    "execution": {
     "iopub.execute_input": "2021-12-28T18:35:24.056582Z",
     "iopub.status.busy": "2021-12-28T18:35:24.056103Z",
     "iopub.status.idle": "2021-12-28T18:35:24.088329Z",
     "shell.execute_reply": "2021-12-28T18:35:24.087566Z",
     "shell.execute_reply.started": "2021-12-28T18:35:24.056524Z"
    }
   },
   "outputs": [],
   "source": [
    "df_net"
   ]
  },
  {
   "cell_type": "code",
   "execution_count": 182,
   "metadata": {
    "execution": {
     "iopub.execute_input": "2021-12-28T18:35:24.090151Z",
     "iopub.status.busy": "2021-12-28T18:35:24.089899Z",
     "iopub.status.idle": "2021-12-28T18:35:24.640315Z",
     "shell.execute_reply": "2021-12-28T18:35:24.639465Z",
     "shell.execute_reply.started": "2021-12-28T18:35:24.090123Z"
    }
   },
   "outputs": [],
   "source": [
    "plt.figure(figsize=(10, 7), dpi=200)\n",
    "plt.pcolor(df_net, cmap='afmhot_r', edgecolors='white', linewidths=2) # heatmap\n",
    "plt.xticks(np.arange(0.5, len(df_net.columns), 1), df_net.columns, fontsize=7, fontfamily='serif')\n",
    "plt.yticks(np.arange(0.5, len(df_net.index), 1), df_net.index, fontsize=7, fontfamily='serif')\n",
    "\n",
    "plt.title('Netflix Contents Update', fontsize=12, fontfamily='calibri', fontweight='bold', position=(0.20, 1.0+0.02))\n",
    "cbar = plt.colorbar()\n",
    "\n",
    "cbar.ax.tick_params(labelsize=8) \n",
    "cbar.ax.minorticks_on()\n",
    "plt.show()"
   ]
  },
  {
   "cell_type": "markdown",
   "metadata": {},
   "source": [
    "# Analysis of movie duration"
   ]
  },
  {
   "cell_type": "code",
   "execution_count": 183,
   "metadata": {
    "execution": {
     "iopub.execute_input": "2021-12-28T18:35:24.642346Z",
     "iopub.status.busy": "2021-12-28T18:35:24.642029Z",
     "iopub.status.idle": "2021-12-28T18:35:24.660087Z",
     "shell.execute_reply": "2021-12-28T18:35:24.659289Z",
     "shell.execute_reply.started": "2021-12-28T18:35:24.642307Z"
    }
   },
   "outputs": [],
   "source": [
    "netflix_movies['duration'] = netflix_movies['duration'].str.replace(' min', '').fillna(0)\n",
    "netflix_movies['duration'] = netflix_movies['duration'].astype(str).astype(int)"
   ]
  },
  {
   "cell_type": "code",
   "execution_count": 184,
   "metadata": {
    "execution": {
     "iopub.execute_input": "2021-12-28T18:35:24.662115Z",
     "iopub.status.busy": "2021-12-28T18:35:24.661419Z",
     "iopub.status.idle": "2021-12-28T18:35:25.005537Z",
     "shell.execute_reply": "2021-12-28T18:35:25.004622Z",
     "shell.execute_reply.started": "2021-12-28T18:35:24.662082Z"
    }
   },
   "outputs": [],
   "source": [
    "sns.set(style= 'darkgrid')\n",
    "sns.kdeplot(data = netflix_movies['duration'], shade = True)"
   ]
  },
  {
   "cell_type": "markdown",
   "metadata": {},
   "source": [
    "# TV SHOWS WITH HIGHEST NUMBER OF SEASONS"
   ]
  },
  {
   "cell_type": "code",
   "execution_count": 185,
   "metadata": {
    "execution": {
     "iopub.execute_input": "2021-12-28T18:35:25.007534Z",
     "iopub.status.busy": "2021-12-28T18:35:25.007229Z",
     "iopub.status.idle": "2021-12-28T18:35:25.019185Z",
     "shell.execute_reply": "2021-12-28T18:35:25.018085Z",
     "shell.execute_reply.started": "2021-12-28T18:35:25.007492Z"
    }
   },
   "outputs": [],
   "source": [
    "duration = netflix_shows[['title', 'duration']]\n",
    "duration['duration'] = duration['duration'].str.replace(' Seasons', '')\n"
   ]
  },
  {
   "cell_type": "code",
   "execution_count": 186,
   "metadata": {
    "execution": {
     "iopub.execute_input": "2021-12-28T18:35:25.021481Z",
     "iopub.status.busy": "2021-12-28T18:35:25.020826Z",
     "iopub.status.idle": "2021-12-28T18:35:25.032542Z",
     "shell.execute_reply": "2021-12-28T18:35:25.031690Z",
     "shell.execute_reply.started": "2021-12-28T18:35:25.021432Z"
    }
   },
   "outputs": [],
   "source": [
    "duration['duration'] = duration['duration'].str.replace(' Season', '')\n"
   ]
  },
  {
   "cell_type": "code",
   "execution_count": 187,
   "metadata": {
    "execution": {
     "iopub.execute_input": "2021-12-28T18:35:25.034944Z",
     "iopub.status.busy": "2021-12-28T18:35:25.034661Z",
     "iopub.status.idle": "2021-12-28T18:35:25.047883Z",
     "shell.execute_reply": "2021-12-28T18:35:25.047018Z",
     "shell.execute_reply.started": "2021-12-28T18:35:25.034917Z"
    }
   },
   "outputs": [],
   "source": [
    "duration['duration'].unique()"
   ]
  },
  {
   "cell_type": "code",
   "execution_count": 188,
   "metadata": {
    "execution": {
     "iopub.execute_input": "2021-12-28T18:35:25.049476Z",
     "iopub.status.busy": "2021-12-28T18:35:25.049248Z",
     "iopub.status.idle": "2021-12-28T18:35:25.059211Z",
     "shell.execute_reply": "2021-12-28T18:35:25.058440Z",
     "shell.execute_reply.started": "2021-12-28T18:35:25.049447Z"
    }
   },
   "outputs": [],
   "source": [
    "duration['duration'] = duration['duration'].astype(str).astype(int)"
   ]
  },
  {
   "cell_type": "code",
   "execution_count": 189,
   "metadata": {
    "execution": {
     "iopub.execute_input": "2021-12-28T18:35:25.060665Z",
     "iopub.status.busy": "2021-12-28T18:35:25.060420Z",
     "iopub.status.idle": "2021-12-28T18:35:25.082054Z",
     "shell.execute_reply": "2021-12-28T18:35:25.081029Z",
     "shell.execute_reply.started": "2021-12-28T18:35:25.060637Z"
    }
   },
   "outputs": [],
   "source": [
    "duration.info()"
   ]
  },
  {
   "cell_type": "code",
   "execution_count": 190,
   "metadata": {
    "execution": {
     "iopub.execute_input": "2021-12-28T18:35:25.083774Z",
     "iopub.status.busy": "2021-12-28T18:35:25.083506Z",
     "iopub.status.idle": "2021-12-28T18:35:25.095505Z",
     "shell.execute_reply": "2021-12-28T18:35:25.094634Z",
     "shell.execute_reply.started": "2021-12-28T18:35:25.083743Z"
    }
   },
   "outputs": [],
   "source": [
    "top = duration.sort_values(by = 'duration', ascending = False)"
   ]
  },
  {
   "cell_type": "code",
   "execution_count": 191,
   "metadata": {
    "execution": {
     "iopub.execute_input": "2021-12-28T18:35:25.097495Z",
     "iopub.status.busy": "2021-12-28T18:35:25.097201Z",
     "iopub.status.idle": "2021-12-28T18:35:25.114636Z",
     "shell.execute_reply": "2021-12-28T18:35:25.113660Z",
     "shell.execute_reply.started": "2021-12-28T18:35:25.097454Z"
    }
   },
   "outputs": [],
   "source": [
    "top_10"
   ]
  },
  {
   "cell_type": "code",
   "execution_count": 192,
   "metadata": {
    "execution": {
     "iopub.execute_input": "2021-12-28T18:35:25.116586Z",
     "iopub.status.busy": "2021-12-28T18:35:25.116109Z",
     "iopub.status.idle": "2021-12-28T18:35:25.426238Z",
     "shell.execute_reply": "2021-12-28T18:35:25.425269Z",
     "shell.execute_reply.started": "2021-12-28T18:35:25.116520Z"
    }
   },
   "outputs": [],
   "source": [
    "from matplotlib.pyplot import figure\n",
    "top_10 = top.iloc[:10, :]\n",
    "\n",
    "\n",
    "top_10.plot(kind = 'bar', x = 'title', y = 'duration',  figsize=(15,8))"
   ]
  },
  {
   "cell_type": "markdown",
   "metadata": {},
   "source": [
    "# content in france based on directors"
   ]
  },
  {
   "cell_type": "code",
   "execution_count": 193,
   "metadata": {
    "execution": {
     "iopub.execute_input": "2021-12-28T18:35:25.427837Z",
     "iopub.status.busy": "2021-12-28T18:35:25.427628Z",
     "iopub.status.idle": "2021-12-28T18:35:25.795514Z",
     "shell.execute_reply": "2021-12-28T18:35:25.794617Z",
     "shell.execute_reply.started": "2021-12-28T18:35:25.427811Z"
    }
   },
   "outputs": [],
   "source": [
    "netflix_fr=netflix_overall[netflix_overall['country']=='United States']\n",
    "nannef=netflix_fr.dropna()\n",
    "import plotly.express as px\n",
    "fig = px.treemap(nannef, path=['country','director'],\n",
    "                  color='director', hover_data=['director','title'],color_continuous_scale='Purples')\n",
    "fig.show()"
   ]
  },
  {
   "cell_type": "markdown",
   "metadata": {},
   "source": []
  },
  {
   "cell_type": "markdown",
   "metadata": {},
   "source": [
    "# **RECOMMENDER SYSTEM**"
   ]
  },
  {
   "cell_type": "code",
   "execution_count": 194,
   "metadata": {
    "execution": {
     "iopub.execute_input": "2021-12-28T18:35:25.797495Z",
     "iopub.status.busy": "2021-12-28T18:35:25.796894Z",
     "iopub.status.idle": "2021-12-28T18:35:25.800490Z",
     "shell.execute_reply": "2021-12-28T18:35:25.799978Z",
     "shell.execute_reply.started": "2021-12-28T18:35:25.797462Z"
    }
   },
   "outputs": [],
   "source": [
    "from sklearn.feature_extraction.text import TfidfVectorizer\n"
   ]
  },
  {
   "cell_type": "code",
   "execution_count": 195,
   "metadata": {
    "execution": {
     "iopub.execute_input": "2021-12-28T18:35:25.802282Z",
     "iopub.status.busy": "2021-12-28T18:35:25.801971Z",
     "iopub.status.idle": "2021-12-28T18:35:26.147464Z",
     "shell.execute_reply": "2021-12-28T18:35:26.146514Z",
     "shell.execute_reply.started": "2021-12-28T18:35:25.802257Z"
    }
   },
   "outputs": [],
   "source": [
    "#removing stopwords\n",
    "tfidf = TfidfVectorizer(stop_words='english')\n",
    "\n",
    "#Replace NaN with an empty string\n",
    "df['description'] = df['description'].fillna('')\n",
    "\n",
    "#Construct the required TF-IDF matrix by fitting and transforming the data\n",
    "tfidf_matrix = tfidf.fit_transform(df['description'])\n",
    "\n",
    "#Output the shape of tfidf_matrix\n",
    "tfidf_matrix.shape"
   ]
  },
  {
   "cell_type": "code",
   "execution_count": 196,
   "metadata": {
    "execution": {
     "iopub.execute_input": "2021-12-28T18:35:26.149725Z",
     "iopub.status.busy": "2021-12-28T18:35:26.149387Z",
     "iopub.status.idle": "2021-12-28T18:35:27.187146Z",
     "shell.execute_reply": "2021-12-28T18:35:27.186138Z",
     "shell.execute_reply.started": "2021-12-28T18:35:26.149673Z"
    }
   },
   "outputs": [],
   "source": [
    "# Import linear_kernel\n",
    "from sklearn.metrics.pairwise import linear_kernel\n",
    "\n",
    "# Compute the cosine similarity matrix\n",
    "cosine_sim = linear_kernel(tfidf_matrix, tfidf_matrix)"
   ]
  },
  {
   "cell_type": "code",
   "execution_count": 197,
   "metadata": {
    "execution": {
     "iopub.execute_input": "2021-12-28T18:35:27.188893Z",
     "iopub.status.busy": "2021-12-28T18:35:27.188627Z",
     "iopub.status.idle": "2021-12-28T18:35:27.193928Z",
     "shell.execute_reply": "2021-12-28T18:35:27.193124Z",
     "shell.execute_reply.started": "2021-12-28T18:35:27.188855Z"
    }
   },
   "outputs": [],
   "source": [
    "indices = pd.Series(df.index, index=df['title']).drop_duplicates()"
   ]
  },
  {
   "cell_type": "code",
   "execution_count": 198,
   "metadata": {
    "execution": {
     "iopub.execute_input": "2021-12-28T18:35:27.196013Z",
     "iopub.status.busy": "2021-12-28T18:35:27.195675Z",
     "iopub.status.idle": "2021-12-28T18:35:27.209270Z",
     "shell.execute_reply": "2021-12-28T18:35:27.208612Z",
     "shell.execute_reply.started": "2021-12-28T18:35:27.195975Z"
    }
   },
   "outputs": [],
   "source": [
    "def get_recommendations(title, cosine_sim=cosine_sim):\n",
    "    idx = indices[title]\n",
    "\n",
    "    # Get the pairwsie similarity scores of all movies with that movie\n",
    "    sim_scores = list(enumerate(cosine_sim[idx]))\n",
    "\n",
    "    # Sort the movies based on the similarity scores\n",
    "    sim_scores = sorted(sim_scores, key=lambda x: x[1], reverse=True)\n",
    "\n",
    "    # Get the scores of the 10 most similar movies\n",
    "    sim_scores = sim_scores[1:11]\n",
    "\n",
    "    # Get the movie indices\n",
    "    movie_indices = [i[0] for i in sim_scores]\n",
    "\n",
    "    # Return the top 10 most similar movies\n",
    "    return df['title'].iloc[movie_indices]"
   ]
  },
  {
   "cell_type": "code",
   "execution_count": 199,
   "metadata": {
    "execution": {
     "iopub.execute_input": "2021-12-28T18:35:27.211263Z",
     "iopub.status.busy": "2021-12-28T18:35:27.210551Z",
     "iopub.status.idle": "2021-12-28T18:35:27.234191Z",
     "shell.execute_reply": "2021-12-28T18:35:27.233366Z",
     "shell.execute_reply.started": "2021-12-28T18:35:27.211221Z"
    }
   },
   "outputs": [],
   "source": [
    "get_recommendations('Peaky Blinders')"
   ]
  },
  {
   "cell_type": "markdown",
   "metadata": {},
   "source": [
    "# Content based filtering on multiple metrics"
   ]
  },
  {
   "cell_type": "markdown",
   "metadata": {
    "execution": {
     "iopub.execute_input": "2021-12-28T18:14:11.648772Z",
     "iopub.status.busy": "2021-12-28T18:14:11.648329Z",
     "iopub.status.idle": "2021-12-28T18:14:11.655144Z",
     "shell.execute_reply": "2021-12-28T18:14:11.653957Z",
     "shell.execute_reply.started": "2021-12-28T18:14:11.648736Z"
    }
   },
   "source": [
    "Content based filtering on the following factors: Title, Cast, Director, Listed in, Plot"
   ]
  },
  {
   "cell_type": "code",
   "execution_count": 200,
   "metadata": {
    "execution": {
     "iopub.execute_input": "2021-12-28T18:35:27.242440Z",
     "iopub.status.busy": "2021-12-28T18:35:27.241900Z",
     "iopub.status.idle": "2021-12-28T18:35:27.273192Z",
     "shell.execute_reply": "2021-12-28T18:35:27.272381Z",
     "shell.execute_reply.started": "2021-12-28T18:35:27.242392Z"
    }
   },
   "outputs": [],
   "source": [
    "filledna=netflix_overall.fillna('')\n",
    "filledna.head(2)"
   ]
  },
  {
   "cell_type": "code",
   "execution_count": 201,
   "metadata": {
    "execution": {
     "iopub.execute_input": "2021-12-28T18:35:27.275476Z",
     "iopub.status.busy": "2021-12-28T18:35:27.274903Z",
     "iopub.status.idle": "2021-12-28T18:35:27.280170Z",
     "shell.execute_reply": "2021-12-28T18:35:27.279609Z",
     "shell.execute_reply.started": "2021-12-28T18:35:27.275433Z"
    }
   },
   "outputs": [],
   "source": [
    "def clean_data(x):\n",
    "        return str.lower(x.replace(\" \", \"\"))"
   ]
  },
  {
   "cell_type": "code",
   "execution_count": 202,
   "metadata": {
    "execution": {
     "iopub.execute_input": "2021-12-28T18:35:27.282228Z",
     "iopub.status.busy": "2021-12-28T18:35:27.281645Z",
     "iopub.status.idle": "2021-12-28T18:35:27.298674Z",
     "shell.execute_reply": "2021-12-28T18:35:27.297935Z",
     "shell.execute_reply.started": "2021-12-28T18:35:27.282184Z"
    }
   },
   "outputs": [],
   "source": [
    "features=['title','director','cast','listed_in','description']\n",
    "filledna=filledna[features]"
   ]
  },
  {
   "cell_type": "code",
   "execution_count": 203,
   "metadata": {
    "execution": {
     "iopub.execute_input": "2021-12-28T18:35:27.301429Z",
     "iopub.status.busy": "2021-12-28T18:35:27.300945Z",
     "iopub.status.idle": "2021-12-28T18:35:27.374847Z",
     "shell.execute_reply": "2021-12-28T18:35:27.373885Z",
     "shell.execute_reply.started": "2021-12-28T18:35:27.301385Z"
    }
   },
   "outputs": [],
   "source": [
    "for feature in features:\n",
    "    filledna[feature] = filledna[feature].apply(clean_data)\n",
    "    \n",
    "filledna.head(2)"
   ]
  },
  {
   "cell_type": "code",
   "execution_count": 204,
   "metadata": {
    "execution": {
     "iopub.execute_input": "2021-12-28T18:35:27.377033Z",
     "iopub.status.busy": "2021-12-28T18:35:27.376717Z",
     "iopub.status.idle": "2021-12-28T18:35:27.382650Z",
     "shell.execute_reply": "2021-12-28T18:35:27.381707Z",
     "shell.execute_reply.started": "2021-12-28T18:35:27.376990Z"
    }
   },
   "outputs": [],
   "source": [
    "def create_soup(x):\n",
    "    return x['title']+ ' ' + x['director'] + ' ' + x['cast'] + ' ' +x['listed_in']+' '+ x['description']"
   ]
  },
  {
   "cell_type": "code",
   "execution_count": 205,
   "metadata": {
    "execution": {
     "iopub.execute_input": "2021-12-28T18:35:27.384686Z",
     "iopub.status.busy": "2021-12-28T18:35:27.384366Z",
     "iopub.status.idle": "2021-12-28T18:35:27.706606Z",
     "shell.execute_reply": "2021-12-28T18:35:27.705879Z",
     "shell.execute_reply.started": "2021-12-28T18:35:27.384646Z"
    }
   },
   "outputs": [],
   "source": [
    "filledna['soup'] = filledna.apply(create_soup, axis=1)"
   ]
  },
  {
   "cell_type": "code",
   "execution_count": 206,
   "metadata": {
    "execution": {
     "iopub.execute_input": "2021-12-28T18:35:27.710982Z",
     "iopub.status.busy": "2021-12-28T18:35:27.710621Z",
     "iopub.status.idle": "2021-12-28T18:35:27.728481Z",
     "shell.execute_reply": "2021-12-28T18:35:27.727689Z",
     "shell.execute_reply.started": "2021-12-28T18:35:27.710948Z"
    }
   },
   "outputs": [],
   "source": [
    "filledna"
   ]
  },
  {
   "cell_type": "markdown",
   "metadata": {},
   "source": [
    "From here on, the code is basically similar to the upper model except the fact that count vectorizer is used instead of tfidf."
   ]
  },
  {
   "cell_type": "code",
   "execution_count": 207,
   "metadata": {
    "execution": {
     "iopub.execute_input": "2021-12-28T18:35:27.730052Z",
     "iopub.status.busy": "2021-12-28T18:35:27.729744Z",
     "iopub.status.idle": "2021-12-28T18:35:29.524715Z",
     "shell.execute_reply": "2021-12-28T18:35:29.523768Z",
     "shell.execute_reply.started": "2021-12-28T18:35:27.730023Z"
    }
   },
   "outputs": [],
   "source": [
    "from sklearn.feature_extraction.text import CountVectorizer\n",
    "from sklearn.metrics.pairwise import cosine_similarity\n",
    "\n",
    "count = CountVectorizer(stop_words='english')\n",
    "count_matrix = count.fit_transform(filledna['soup'])\n",
    "\n",
    "cosine_sim2 = cosine_similarity(count_matrix, count_matrix)"
   ]
  },
  {
   "cell_type": "code",
   "execution_count": 208,
   "metadata": {
    "execution": {
     "iopub.execute_input": "2021-12-28T18:35:29.526648Z",
     "iopub.status.busy": "2021-12-28T18:35:29.526023Z",
     "iopub.status.idle": "2021-12-28T18:35:29.534810Z",
     "shell.execute_reply": "2021-12-28T18:35:29.534008Z",
     "shell.execute_reply.started": "2021-12-28T18:35:29.526614Z"
    }
   },
   "outputs": [],
   "source": [
    "filledna=filledna.reset_index()\n",
    "indices = pd.Series(filledna.index, index=filledna['title'])"
   ]
  },
  {
   "cell_type": "code",
   "execution_count": 209,
   "metadata": {
    "execution": {
     "iopub.execute_input": "2021-12-28T18:35:29.536820Z",
     "iopub.status.busy": "2021-12-28T18:35:29.536346Z",
     "iopub.status.idle": "2021-12-28T18:35:29.547061Z",
     "shell.execute_reply": "2021-12-28T18:35:29.546093Z",
     "shell.execute_reply.started": "2021-12-28T18:35:29.536787Z"
    }
   },
   "outputs": [],
   "source": [
    "def get_recommendations_new(title, cosine_sim):\n",
    "    title=title.replace(' ','').lower()\n",
    "    idx = indices[title]\n",
    "\n",
    "    # Get the pairwsie similarity scores of all movies with that movie\n",
    "    sim_scores = list(enumerate(cosine_sim[idx]))\n",
    "\n",
    "    # Sort the movies based on the similarity scores\n",
    "    sim_scores = sorted(sim_scores, key=lambda x: x[1], reverse=True)\n",
    "\n",
    "    # Get the scores of the 10 most similar movies\n",
    "    sim_scores = sim_scores[1:11]\n",
    "\n",
    "    # Get the movie indices\n",
    "    movie_indices = [i[0] for i in sim_scores]\n",
    "\n",
    "    # Return the top 10 most similar movies\n",
    "    return netflix_overall['title'].iloc[movie_indices]"
   ]
  },
  {
   "cell_type": "code",
   "execution_count": 210,
   "metadata": {
    "execution": {
     "iopub.execute_input": "2021-12-28T18:35:29.548513Z",
     "iopub.status.busy": "2021-12-28T18:35:29.548303Z",
     "iopub.status.idle": "2021-12-28T18:35:29.576192Z",
     "shell.execute_reply": "2021-12-28T18:35:29.575622Z",
     "shell.execute_reply.started": "2021-12-28T18:35:29.548488Z"
    }
   },
   "outputs": [],
   "source": [
    "get_recommendations_new('Peaky Blinders', cosine_sim2)"
   ]
  },
  {
   "cell_type": "markdown",
   "metadata": {},
   "source": []
  }
 ],
 "metadata": {
  "kernelspec": {
   "display_name": "Python 3",
   "language": "python",
   "name": "python3"
  },
  "language_info": {
   "codemirror_mode": {
    "name": "ipython",
    "version": 3
   },
   "file_extension": ".py",
   "mimetype": "text/x-python",
   "name": "python",
   "nbconvert_exporter": "python",
   "pygments_lexer": "ipython3",
   "version": "3.7.12"
  }
 },
 "nbformat": 4,
 "nbformat_minor": 4
}
